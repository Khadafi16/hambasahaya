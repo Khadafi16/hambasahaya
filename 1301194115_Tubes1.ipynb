{
  "nbformat": 4,
  "nbformat_minor": 0,
  "metadata": {
    "colab": {
      "name": "1301194115_Tubes1.ipynb",
      "provenance": [],
      "include_colab_link": true
    },
    "kernelspec": {
      "name": "python3",
      "display_name": "Python 3"
    },
    "language_info": {
      "name": "python"
    }
  },
  "cells": [
    {
      "cell_type": "markdown",
      "metadata": {
        "id": "view-in-github",
        "colab_type": "text"
      },
      "source": [
        "<a href=\"https://colab.research.google.com/github/asylum69/hambasahaya/blob/master/1301194115_Tubes1.ipynb\" target=\"_parent\"><img src=\"https://colab.research.google.com/assets/colab-badge.svg\" alt=\"Open In Colab\"/></a>"
      ]
    },
    {
      "cell_type": "markdown",
      "source": [
        "# Muhammad Noor Rifani Khadafi (1301194115)\n",
        "### Tugas Besar I Pemodelan Simulasi\n",
        "\n"
      ],
      "metadata": {
        "id": "0U4JEz9IpnQ2"
      }
    },
    {
      "cell_type": "markdown",
      "source": [
        "# Definisi Library"
      ],
      "metadata": {
        "id": "4hceQoTSqYnE"
      }
    },
    {
      "cell_type": "code",
      "source": [
        "import matplotlib.pyplot as plt \n",
        "import numpy as np "
      ],
      "metadata": {
        "id": "jurkAH32qNKm"
      },
      "execution_count": null,
      "outputs": []
    },
    {
      "cell_type": "markdown",
      "source": [
        "# Fungsi"
      ],
      "metadata": {
        "id": "5d1LxmO9qbRE"
      }
    },
    {
      "cell_type": "code",
      "source": [
        "# Fungsi Numerik\n",
        "def posisiNum_vx(v,ax,dt):\n",
        "    kecepatan_x = v + ax * dt\n",
        "    return kecepatan_x \n",
        "def posisiNum_yx(v,ay,dt):\n",
        "    kecepatan_y = v + ay * dt\n",
        "    return kecepatan_y\n",
        "def tinggi_num(y,v,dt):\n",
        "    tinggi = y + v * dt\n",
        "    return tinggi\n",
        "def posisi_num(x,v,dt):\n",
        "    position = x + v * dt\n",
        "    return position\n",
        "\n",
        "# Fungsi Analitik\n",
        "def posisiAn_vx(v,ax,t):\n",
        "    kecepatan_x = v + ax * t\n",
        "    return kecepatan_x \n",
        "def posisiAn_yx(v,ay,t):\n",
        "    kecepatan_y = v + ay * t\n",
        "    return kecepatan_y\n",
        "def tinggi_an(y,v,t,ay):\n",
        "    tinggi = v*t + 0.5 * ay * pow(t,2)\n",
        "    return tinggi\n",
        "def posisi_an(x,v,t,ax):\n",
        "    position = v*t - 0.5 * ax * pow(t,2)\n",
        "    return position\n",
        "\n",
        "# Funngsi kecepatan awal pada sumbu x,y\n",
        "def awal_vx(v0,sudut):\n",
        "    return v0 * np.cos(sudut)\n",
        "def awal_yx(v0,sudut):\n",
        "    return v0 * np.sin(sudut)"
      ],
      "metadata": {
        "id": "A4rAqXKNqfoT"
      },
      "execution_count": null,
      "outputs": []
    },
    {
      "cell_type": "markdown",
      "source": [
        "Input Data"
      ],
      "metadata": {
        "id": "qFzLeQWLtfd9"
      }
    },
    {
      "cell_type": "code",
      "source": [
        "sudut = 35*(2*np.pi/360) \n",
        "m = float(input('Masukkan Massa : '))\n",
        "v0 = float(input('Masukkan Kecepatan Awal : '))\n",
        "dt = float(input('Masukkan Jarak Waktu : '))\n",
        "D = float(input('Masukkan Hambatan Udara : '))"
      ],
      "metadata": {
        "colab": {
          "base_uri": "https://localhost:8080/"
        },
        "id": "iT5Kxs1Ctcvo",
        "outputId": "dd7f70fd-eb82-4b69-ef0a-5791fbdf7cb3"
      },
      "execution_count": null,
      "outputs": [
        {
          "name": "stdout",
          "output_type": "stream",
          "text": [
            "Masukkan Massa : 0.15\n",
            "Masukkan Kecepatan Awal : 50\n",
            "Masukkan Jarak Waktu : 0.01\n",
            "Masukkan Hambatan Udara : 0.0013\n"
          ]
        }
      ]
    },
    {
      "cell_type": "markdown",
      "source": [
        "# No 1"
      ],
      "metadata": {
        "id": "4_O_CkaDuYm-"
      }
    },
    {
      "cell_type": "markdown",
      "source": [
        "## Tanpa Hambatan"
      ],
      "metadata": {
        "id": "09yQTb22u-7q"
      }
    },
    {
      "cell_type": "code",
      "source": [
        "# Menginisiasi posisi sumbu x,y,waktu\n",
        "x_th = 0\n",
        "y_th = 0 \n",
        "t_th = 0 \n",
        "position_th = [x_th] \n",
        "tinggi_th = [y_th] \n",
        "time_th = [t_th]\n",
        "\n",
        "# Menginisiasi percepatan pada sumbu x,y (tanpa hambatan)\n",
        "ax_th = 0\n",
        "ay_th = -9.8\n",
        "\n",
        "\n",
        "# Menginisiasi kecepatan awal pada sumbu x dan y\n",
        "vx = awal_vx(v0, sudut) \n",
        "vy = awal_yx(v0, sudut)\n",
        "\n",
        "# Menginisiasi untuk menentukan titik tertinggi max \n",
        "y_th_max = 0\n",
        "\n",
        "# Melakukan perulangan untuk menentukan posisi sumbu x,y setiap waktu\n",
        "while y_th >= 0:\n",
        "    vx = posisiNum_vx(vx, ax_th, dt)\n",
        "    vy = posisiNum_yx(vy, ay_th, dt)\n",
        "    y_th = tinggi_num(y_th, vy, dt)\n",
        "    x_th = posisi_num(x_th, vx, dt)\n",
        "    t_th = t_th + dt\n",
        "\n",
        "    if y_th < 0:\n",
        "        break\n",
        "    if y_th > y_th_max:\n",
        "        y_th_max = y_th\n",
        "    position_th.append(x_th)\n",
        "    tinggi_th.append(y_th)\n",
        "    time_th.append(t_th)"
      ],
      "metadata": {
        "id": "XNVZWk9Tu2um"
      },
      "execution_count": null,
      "outputs": []
    },
    {
      "cell_type": "markdown",
      "source": [
        "## Dengan Hambatan"
      ],
      "metadata": {
        "id": "9BgOS5Vdv6gV"
      }
    },
    {
      "cell_type": "code",
      "source": [
        " # Menginisiasi posisi sumbu x,y,waktu\n",
        "x_dh = 0\n",
        "y_dh = 0 \n",
        "t_dh = 0 \n",
        "position_dh = [x_th] \n",
        "tinggi_dh = [y_th] \n",
        "time_dh = [t_th]\n",
        "\n",
        "# Menginisiasi kecepatan awal pada sumbu x dan y\n",
        "vx = awal_vx(v0, sudut)\n",
        "vy = awal_yx(v0, sudut)\n",
        "\n",
        "# Menginisiasi percepatan pada sumbu x,y (dengan hambatan)\n",
        "v = np.sqrt(pow(vx, 2)+pow(vy, 2))\n",
        "ax_dh = -((D/m)*v*vx)\n",
        "ay_dh = -9.8 - ((D/m)*v*vy)\n",
        "\n",
        "# Menginisiasi untuk menentukan titik tertinggi max \n",
        "y_max_dh = 0 \n",
        "\n",
        "# Melakukan perulangan untuk menentukan posisi sumbu x,y setiap waktu \n",
        "while y_dh >= 0:\n",
        "    v = np.sqrt(pow(vx, 2)+pow(vy, 2))\n",
        "    ax_dh = -((D/m)*v*vx)\n",
        "    ay_dh = -9.8 - ((D/m)*v*vy)\n",
        "    vx = posisiNum_vx(vx, ax_dh, dt)\n",
        "    vy = posisiNum_yx(vy, ay_dh, dt)\n",
        "    y_dh = tinggi_num(y_dh, vy, dt)\n",
        "    x_dh = posisi_num(x_dh, vx, dt)\n",
        "    t_dh = t_dh + dt\n",
        "    if  y_dh < 0:\n",
        "        break\n",
        "    if y_dh > y_max_dh:\n",
        "        y_max_dh = y_dh\n",
        "    position_dh.append(x_dh)\n",
        "    tinggi_dh.append(y_dh)\n",
        "    time_dh.append(t_dh)"
      ],
      "metadata": {
        "id": "bL1FYBL5v-_E"
      },
      "execution_count": null,
      "outputs": []
    },
    {
      "cell_type": "markdown",
      "source": [
        ""
      ],
      "metadata": {
        "id": "mb0zxeb8weN5"
      }
    },
    {
      "cell_type": "markdown",
      "source": [
        "## Visualisasi"
      ],
      "metadata": {
        "id": "KUyrTUiTweQW"
      }
    },
    {
      "cell_type": "code",
      "source": [
        "# Visualisasi Tanpa Hambatan\n",
        "print('Hasil Tanpa Hambatan')\n",
        "print('Tinggi = ',y_th_max,'meter')\n",
        "print('Posisi = ',position_th[-1],'meter')\n",
        "#print ('Time = ', time_th)\n",
        "print(\"Total Waktu : \",time_th[-1],'second')\n",
        "plt.plot(position_th,tinggi_th,c='b', label ='Numerical tanpa Hambatan Udara')\n",
        "plt.xlabel('Posisi (m)')\n",
        "plt.ylabel('Tinggi (m)')\n",
        "\n",
        "# Visualisasi Dengan Hambatan\n",
        "print('\\n')\n",
        "print('Hasil Dengan Hambatan')\n",
        "print('Tinggi = ',y_max_dh,'meter')\n",
        "print('Posisi = ',position_dh[-1],'meter')\n",
        "#print ('Time = ', time_dh)\n",
        "print(\"Total Waktu : \",time_dh[-1],'second')\n",
        "plt.plot(position_dh,tinggi_dh,c='r', label ='Numerical tanpa Hambatan Udara')\n",
        "plt.xlabel('Posisi (m)')\n",
        "plt.ylabel('Tinggi (m)')\n",
        "plt.legend(['TANPA HAMBATAN','DENGAN HAMBATAN'],loc='best') \n",
        "plt.show()"
      ],
      "metadata": {
        "colab": {
          "base_uri": "https://localhost:8080/",
          "height": 453
        },
        "id": "Mwm59e3Bwhdf",
        "outputId": "51786670-64bb-4cc1-a144-34f83b0daaa3"
      },
      "execution_count": null,
      "outputs": [
        {
          "output_type": "stream",
          "name": "stdout",
          "text": [
            "Hasil Tanpa Hambatan\n",
            "Tinggi =  41.81971970725295 meter\n",
            "Posisi =  239.192396932388 meter\n",
            "Total Waktu :  5.83999999999992 second\n",
            "\n",
            "\n",
            "Hasil Dengan Hambatan\n",
            "Tinggi =  25.460895364730693 meter\n",
            "Posisi =  105.99620844536784 meter\n",
            "Total Waktu :  4.509999999999948 second\n"
          ]
        },
        {
          "output_type": "display_data",
          "data": {
            "text/plain": [
              "<Figure size 432x288 with 1 Axes>"
            ],
            "image/png": "[encoded data removed]"
          },
          "metadata": {
            "needs_background": "light"
          }
        }
      ]
    },
    {
      "cell_type": "markdown",
      "source": [
        "# No 2"
      ],
      "metadata": {
        "id": "IQs0MC3K2U_P"
      }
    },
    {
      "cell_type": "code",
      "source": [
        ""
      ],
      "metadata": {
        "id": "efCuTZii2YGE"
      },
      "execution_count": null,
      "outputs": []
    }
  ]
}